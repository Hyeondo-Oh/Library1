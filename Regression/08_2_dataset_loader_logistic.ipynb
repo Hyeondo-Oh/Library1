{
 "cells": [
  {
   "cell_type": "code",
   "execution_count": 1,
   "metadata": {},
   "outputs": [],
   "source": [
    "from torch.utils.data import Dataset, DataLoader\n",
    "from torch import nn, from_numpy, optim\n",
    "import numpy as np"
   ]
  },
  {
   "cell_type": "code",
   "execution_count": 2,
   "metadata": {},
   "outputs": [],
   "source": [
    "class DiabetesDataset(Dataset):\n",
    "    \"\"\" Diabetes dataset.\"\"\"\n",
    "    # Initialize your data, download, etc.\n",
    "    def __init__(self):\n",
    "        xy = np.loadtxt('C:/Users/Hyeondo/diabetes.csv.gz',\n",
    "                        delimiter=',', dtype=np.float32)\n",
    "        self.len = xy.shape[0]\n",
    "        self.x_data = from_numpy(xy[:, 0:-1])\n",
    "        self.y_data = from_numpy(xy[:, [-1]])\n",
    "\n",
    "    def __getitem__(self, index):\n",
    "        return self.x_data[index], self.y_data[index]\n",
    "\n",
    "    def __len__(self):\n",
    "        return self.len"
   ]
  },
  {
   "cell_type": "code",
   "execution_count": 3,
   "metadata": {},
   "outputs": [],
   "source": [
    "dataset = DiabetesDataset()\n",
    "train_loader = DataLoader(dataset=dataset,\n",
    "                          batch_size=32,\n",
    "                          shuffle=True,\n",
    "                          num_workers=0)"
   ]
  },
  {
   "cell_type": "code",
   "execution_count": 4,
   "metadata": {},
   "outputs": [],
   "source": [
    "class Model(nn.Module):\n",
    "\n",
    "    def __init__(self):\n",
    "        \"\"\"\n",
    "        In the constructor we instantiate two nn.Linear module\n",
    "        \"\"\"\n",
    "        super(Model, self).__init__()\n",
    "        self.l1 = nn.Linear(8, 6)\n",
    "        self.l2 = nn.Linear(6, 4)\n",
    "        self.l3 = nn.Linear(4, 1)\n",
    "\n",
    "        self.sigmoid = nn.Sigmoid()\n",
    "\n",
    "    def forward(self, x):\n",
    "        \"\"\"\n",
    "        In the forward function we accept a Variable of input data and we must return\n",
    "        a Variable of output data. We can use Modules defined in the constructor as\n",
    "        well as arbitrary operators on Variables.\n",
    "        \"\"\"\n",
    "        out1 = self.sigmoid(self.l1(x))\n",
    "        out2 = self.sigmoid(self.l2(out1))\n",
    "        y_pred = self.sigmoid(self.l3(out2))\n",
    "        return y_pred"
   ]
  },
  {
   "cell_type": "code",
   "execution_count": 5,
   "metadata": {},
   "outputs": [],
   "source": [
    "model = Model()\n",
    "criterion = nn.BCELoss(reduction='sum')\n",
    "optimizer = optim.SGD(model.parameters(), lr=0.1)"
   ]
  },
  {
   "cell_type": "code",
   "execution_count": 6,
   "metadata": {},
   "outputs": [
    {
     "name": "stdout",
     "output_type": "stream",
     "text": [
      "Epoch 1 | Batch: 1 | Loss: 22.5384\n",
      "Epoch 1 | Batch: 2 | Loss: 18.6397\n",
      "Epoch 1 | Batch: 3 | Loss: 18.0776\n",
      "Epoch 1 | Batch: 4 | Loss: 22.2421\n",
      "Epoch 1 | Batch: 5 | Loss: 20.7619\n",
      "Epoch 1 | Batch: 6 | Loss: 20.0260\n",
      "Epoch 1 | Batch: 7 | Loss: 22.0252\n",
      "Epoch 1 | Batch: 8 | Loss: 20.7527\n",
      "Epoch 1 | Batch: 9 | Loss: 33.8164\n",
      "Epoch 1 | Batch: 10 | Loss: 36.7966\n",
      "Epoch 1 | Batch: 11 | Loss: 16.8728\n",
      "Epoch 1 | Batch: 12 | Loss: 23.0683\n",
      "Epoch 1 | Batch: 13 | Loss: 21.1490\n",
      "Epoch 1 | Batch: 14 | Loss: 19.1003\n",
      "Epoch 1 | Batch: 15 | Loss: 24.5828\n",
      "Epoch 1 | Batch: 16 | Loss: 21.0901\n",
      "Epoch 1 | Batch: 17 | Loss: 19.0001\n",
      "Epoch 1 | Batch: 18 | Loss: 19.9222\n",
      "Epoch 1 | Batch: 19 | Loss: 23.0319\n",
      "Epoch 1 | Batch: 20 | Loss: 21.4917\n",
      "Epoch 1 | Batch: 21 | Loss: 20.0890\n",
      "Epoch 1 | Batch: 22 | Loss: 22.2117\n",
      "Epoch 1 | Batch: 23 | Loss: 20.8850\n",
      "Epoch 1 | Batch: 24 | Loss: 14.1794\n",
      "Epoch 2 | Batch: 1 | Loss: 20.6067\n",
      "Epoch 2 | Batch: 2 | Loss: 23.1505\n",
      "Epoch 2 | Batch: 3 | Loss: 22.2715\n",
      "Epoch 2 | Batch: 4 | Loss: 22.6972\n",
      "Epoch 2 | Batch: 5 | Loss: 20.7617\n",
      "Epoch 2 | Batch: 6 | Loss: 20.5303\n",
      "Epoch 2 | Batch: 7 | Loss: 19.2281\n",
      "Epoch 2 | Batch: 8 | Loss: 20.8476\n",
      "Epoch 2 | Batch: 9 | Loss: 20.5438\n",
      "Epoch 2 | Batch: 10 | Loss: 18.5764\n",
      "Epoch 2 | Batch: 11 | Loss: 21.1303\n",
      "Epoch 2 | Batch: 12 | Loss: 18.5144\n",
      "Epoch 2 | Batch: 13 | Loss: 20.0930\n",
      "Epoch 2 | Batch: 14 | Loss: 22.2695\n",
      "Epoch 2 | Batch: 15 | Loss: 21.1979\n",
      "Epoch 2 | Batch: 16 | Loss: 19.5269\n",
      "Epoch 2 | Batch: 17 | Loss: 22.6440\n",
      "Epoch 2 | Batch: 18 | Loss: 19.6484\n",
      "Epoch 2 | Batch: 19 | Loss: 22.1372\n",
      "Epoch 2 | Batch: 20 | Loss: 19.4831\n",
      "Epoch 2 | Batch: 21 | Loss: 20.7981\n",
      "Epoch 2 | Batch: 22 | Loss: 17.8601\n",
      "Epoch 2 | Batch: 23 | Loss: 26.3075\n",
      "Epoch 2 | Batch: 24 | Loss: 15.4370\n"
     ]
    }
   ],
   "source": [
    "for epoch in range(2):\n",
    "    for i, data in enumerate(train_loader, 0):\n",
    "        # get the inputs\n",
    "        inputs, labels = data\n",
    "\n",
    "        # Forward pass: Compute predicted y by passing x to the model\n",
    "        y_pred = model(inputs)\n",
    "\n",
    "        # Compute and print loss\n",
    "        loss = criterion(y_pred, labels)\n",
    "        print(f'Epoch {epoch + 1} | Batch: {i+1} | Loss: {loss.item():.4f}')\n",
    "\n",
    "        # Zero gradients, perform a backward pass, and update the weights.\n",
    "        optimizer.zero_grad()\n",
    "        loss.backward()\n",
    "        optimizer.step()"
   ]
  },
  {
   "cell_type": "code",
   "execution_count": null,
   "metadata": {},
   "outputs": [],
   "source": []
  }
 ],
 "metadata": {
  "kernelspec": {
   "display_name": "Python 3",
   "language": "python",
   "name": "python3"
  },
  "language_info": {
   "codemirror_mode": {
    "name": "ipython",
    "version": 3
   },
   "file_extension": ".py",
   "mimetype": "text/x-python",
   "name": "python",
   "nbconvert_exporter": "python",
   "pygments_lexer": "ipython3",
   "version": "3.7.6"
  }
 },
 "nbformat": 4,
 "nbformat_minor": 4
}
